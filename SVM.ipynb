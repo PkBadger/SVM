{
 "cells": [
  {
   "cell_type": "code",
   "execution_count": 454,
   "metadata": {},
   "outputs": [],
   "source": [
    "import numpy as np\n",
    "import matplotlib.pyplot as plt\n",
    "from cvxopt import matrix, solvers\n",
    "import sklearn.metrics as metrics\n",
    "\n",
    "DIM = 2\n",
    "COLORS = ['red', 'blue']\n",
    "K = None\n",
    "KC = None\n",
    "\n",
    "# 2-D mean of ones\n",
    "M1 = np.ones((DIM,))\n",
    "# 2-D mean of threes\n",
    "M2 = 3 * np.ones((DIM,))\n",
    "# 2-D covariance of 0.3\n",
    "C1 = np.diag(0.3 * np.ones((DIM,)))\n",
    "# 2-D covariance of 0.2\n",
    "C2 = np.diag(0.2 * np.ones((DIM,)))\n",
    "\n",
    "def generate_gaussian(m, c, num):\n",
    "    return np.random.multivariate_normal(m, c, num)\n",
    "\n",
    "def plot_data_with_labels(x, y):\n",
    "    unique = np.unique(y)\n",
    "    for li in range(len(unique)):\n",
    "        x_sub = x[y == unique[li]]\n",
    "        plt.scatter(x_sub[:, 0], x_sub[:, 1], c = COLORS[li])\n",
    "    plt.show()\n",
    "    \n",
    "def plot_data_with_line(x, y, w, b):\n",
    "    x1= np.arange(0,6);\n",
    "    unique = np.unique(y)\n",
    "    for li in range(len(unique)):\n",
    "        x_sub = x[y == unique[li]]\n",
    "        plt.scatter(x_sub[:, 0], x_sub[:, 1], c = COLORS[li])\n",
    "    slope = -w[0] / w[1]\n",
    "    intercept = -b / w[1]\n",
    "    print(slope)\n",
    "    print(intercept)\n",
    "    print(x1 * slope + intercept)\n",
    "    plt.plot(x1, x1 * slope + intercept, 'k-')\n",
    "    plt.show()\n",
    "\n",
    "def fit(x, y): \n",
    "    global K\n",
    "    global KC\n",
    "    NUM = x.shape[0]\n",
    "    DIM = x.shape[1]\n",
    "    # we'll solve the dual\n",
    "    # obtain the kernel\n",
    "    K = y[:, None] * x\n",
    "    Y = np.reshape(y, (NUM, 1))\n",
    "    Ym = np.matmul(Y,Y.T)\n",
    "    KC = np.dot(K, K.T)\n",
    "    \n",
    "    K = np.zeros((NUM,NUM))\n",
    "    for i in range(NUM):\n",
    "        counter = 0\n",
    "        for j in range(NUM):\n",
    "            Xi = np.array(x[i])\n",
    "            Xj = np.array(x[j])\n",
    "            K[i][j] = np.matmul(Xi, Xj.T)\n",
    "            counter = counter+ 1\n",
    "\n",
    "    K = np.multiply(K, Ym)\n",
    "    P = matrix(K)\n",
    "    q = matrix(-np.ones((NUM, 1)))\n",
    "    G = matrix(-np.eye(NUM))\n",
    "    h = matrix(np.zeros(NUM))\n",
    "    A = matrix(y.reshape(1, -1))\n",
    "    b = matrix(np.zeros(1))\n",
    "    solvers.options['show_progress'] = False\n",
    "    sol = solvers.qp(P, q, G, h, A, b)\n",
    "    alphas = np.array(sol['x'])\n",
    "    return alphas\n",
    "\n",
    "NUM = 50"
   ]
  },
  {
   "cell_type": "code",
   "execution_count": 455,
   "metadata": {},
   "outputs": [
    {
     "data": {
      "image/png": "[encoded data removed]",
      "text/plain": [
       "<Figure size 432x288 with 1 Axes>"
      ]
     },
     "metadata": {
      "needs_background": "light"
     },
     "output_type": "display_data"
    }
   ],
   "source": [
    "\n",
    "# generate 50 points from gaussian 1\n",
    "x1 = generate_gaussian(M1, C1, NUM)\n",
    "# labels\n",
    "y1 = np.ones((x1.shape[0],))\n",
    "# generate 50 points from gaussian 2\n",
    "x2 = generate_gaussian(M2, C2, NUM)\n",
    "y2 = -np.ones((x2.shape[0],))\n",
    "# join\n",
    "x = np.concatenate((x1, x2), axis = 0)\n",
    "y = np.concatenate((y1, y2), axis = 0)\n",
    "plot_data_with_labels(x, y)\n",
    "\n",
    "# fit svm classifier\n",
    "alphas = fit(x, y)\n",
    "\n",
    "# get weights\n",
    "w = np.sum(alphas * y[:, None] * x, axis = 0)\n",
    "# get bias\n",
    "cond = (alphas > 1e-4).reshape(-1)\n",
    "b = y[cond] - np.dot(x[cond], w)\n",
    "b = np.mean(b)"
   ]
  },
  {
   "cell_type": "code",
   "execution_count": 456,
   "metadata": {},
   "outputs": [
    {
     "name": "stdout",
     "output_type": "stream",
     "text": [
      "-2.272930966807286\n",
      "6.343724115279827\n",
      "[ 6.34372412  4.07079315  1.79786218 -0.47506879 -2.74799975 -5.02093072]\n"
     ]
    },
    {
     "data": {
      "image/png": "[encoded data removed]",
      "text/plain": [
       "<Figure size 432x288 with 1 Axes>"
      ]
     },
     "metadata": {
      "needs_background": "light"
     },
     "output_type": "display_data"
    }
   ],
   "source": [
    "plot_data_with_line(x,y,w,b)"
   ]
  },
  {
   "cell_type": "code",
   "execution_count": 457,
   "metadata": {},
   "outputs": [],
   "source": [
    "sigma = .5\n",
    "\n",
    "def fitNonLinear(x, y): \n",
    "    global K\n",
    "    global KC\n",
    "    NUM = x.shape[0]\n",
    "    DIM = x.shape[1]\n",
    "    # we'll solve the dual\n",
    "    # obtain the kernel\n",
    "    K = y[:, None] * x\n",
    "    Y = np.reshape(y, (NUM, 1))\n",
    "    Ym = np.matmul(Y,Y.T)\n",
    "    KC = np.dot(K, K.T)\n",
    "    \n",
    "    K = np.zeros((NUM,NUM))\n",
    "    K = metrics.pairwise.rbf_kernel(x, x, sigma)\n",
    "    K = np.multiply(K, Ym)\n",
    "    P = matrix(K)\n",
    "    q = matrix(-np.ones((NUM, 1)))\n",
    "    G = matrix(-np.eye(NUM))\n",
    "    h = matrix(np.zeros(NUM))\n",
    "    A = matrix(y.reshape(1, -1))\n",
    "    b = matrix(np.zeros(1))\n",
    "    solvers.options['show_progress'] = False\n",
    "    sol = solvers.qp(P, q, G, h, A, b)\n",
    "    alphas = np.array(sol['x'])\n",
    "    return alphas"
   ]
  },
  {
   "cell_type": "code",
   "execution_count": 458,
   "metadata": {},
   "outputs": [
    {
     "data": {
      "image/png": "[encoded data removed]",
      "text/plain": [
       "<Figure size 432x288 with 1 Axes>"
      ]
     },
     "metadata": {
      "needs_background": "light"
     },
     "output_type": "display_data"
    }
   ],
   "source": [
    "plot_data_with_labels(x, y)\n",
    "\n",
    "# fit svm classifier\n",
    "alphas = fitNonLinear(x, y)\n",
    "\n",
    "cond = (alphas > 1e-4)\n",
    "alpha_sv = alphas[cond]\n",
    "n_sv = len(alpha_sv)\n",
    "xCond = cond.reshape(-1)\n",
    "x_sv = x[xCond, :]\n",
    "y_sv = y[xCond]\n",
    "K_sv = K[xCond,xCond]\n",
    "\n",
    "b = np.mean(y_sv - K_sv*(np.multiply(alpha_sv, y_sv)))\n"
   ]
  },
  {
   "cell_type": "code",
   "execution_count": 459,
   "metadata": {},
   "outputs": [],
   "source": [
    "n1 = 100\n",
    "n2 = 100\n",
    "\n",
    "x1plot = np.linspace(0,6, n1)\n",
    "x2plot = np.linspace(0,6,n2)\n",
    "\n",
    "[X1,X2] = np.meshgrid(x1plot,x2plot)\n",
    "\n",
    "x1m = np.reshape(X1,n1*n2,1)\n",
    "x2m = np.reshape(X2,n1*n2,1)\n",
    "Xm = np.array([x1m, x2m]).T\n",
    "\n",
    "ym = np.zeros((n1*n2,1))\n",
    "\n",
    "for j in range(n1*n2):\n",
    "    x_p = Xm[j]\n",
    "    K_pred = metrics.pairwise.rbf_kernel([x_p], x_sv, sigma)\n",
    "    ym[j] = np.sign(np.sum(np.multiply(np.multiply(alpha_sv,y_sv), K_pred)) + b)\n",
    "    \n",
    "yplot = np.reshape(ym, (n1, n2))"
   ]
  },
  {
   "cell_type": "code",
   "execution_count": 460,
   "metadata": {},
   "outputs": [
    {
     "data": {
      "image/png": "[encoded data removed]",
      "text/plain": [
       "<Figure size 432x288 with 1 Axes>"
      ]
     },
     "metadata": {
      "needs_background": "light"
     },
     "output_type": "display_data"
    }
   ],
   "source": [
    "def plot_data_with_contour(x, y, x1P, x2P, yP):\n",
    "    x1= np.arange(0,6);\n",
    "    unique = np.unique(y)\n",
    "    for li in range(len(unique)):\n",
    "        x_sub = x[y == unique[li]]\n",
    "        plt.scatter(x_sub[:, 0], x_sub[:, 1], c = COLORS[li])\n",
    "\n",
    "    plt.contour(x1P, x2P, yP)\n",
    "    plt.show()\n",
    "    \n",
    "plot_data_with_contour(x,y,x1plot, x2plot, yplot)"
   ]
  },
  {
   "cell_type": "code",
   "execution_count": 461,
   "metadata": {},
   "outputs": [],
   "source": [
    "sigma = 3\n",
    "\n",
    "def fitLS(x, y): \n",
    "    global K\n",
    "    global KC\n",
    "    NUM = x.shape[0]\n",
    "    DIM = x.shape[1]\n",
    "    # we'll solve the dual\n",
    "    # obtain the kernel\n",
    "    K = y[:, None] * x\n",
    "    Y = np.reshape(y, (NUM, 1))\n",
    "    Ym = np.matmul(Y,Y.T)\n",
    "    KC = np.dot(K, K.T)\n",
    "    \n",
    "    K = np.zeros((NUM,NUM))\n",
    "    K = metrics.pairwise.rbf_kernel(x, x, sigma)\n",
    "\n",
    "    Omega = np.multiply(K, Ym)\n",
    "    onev = np.ones((NUM, 1))\n",
    "    gamma = 1\n",
    "    \n",
    "    yforA = np.reshape(y, (NUM, 1))\n",
    "    \n",
    "    A11 = np.zeros(1).reshape((1,1))\n",
    "    A12 = yforA.T\n",
    "    A21 = yforA\n",
    "    A22 = Omega + np.eye(NUM)/gamma\n",
    "    \n",
    "    A1 = np.hstack((A11, A12))\n",
    "    A2 = np.hstack((A21, A22))\n",
    "\n",
    "    A =  np.vstack((A1, A2))\n",
    "    \n",
    "    B = np.vstack((A11, onev))\n",
    "    \n",
    "    sol = np.linalg.solve(A, B)\n",
    "    b= sol[0]\n",
    "    alpha=sol[1:]\n",
    "    \n",
    "    return {\n",
    "        'b': b,\n",
    "        'alphas': alpha\n",
    "    }"
   ]
  },
  {
   "cell_type": "code",
   "execution_count": 462,
   "metadata": {},
   "outputs": [
    {
     "data": {
      "image/png": "[encoded data removed]",
      "text/plain": [
       "<Figure size 432x288 with 1 Axes>"
      ]
     },
     "metadata": {
      "needs_background": "light"
     },
     "output_type": "display_data"
    }
   ],
   "source": [
    "plot_data_with_labels(x, y)\n",
    "\n",
    "# fit svm classifier\n",
    "alphas = fitLS(x, y)"
   ]
  },
  {
   "cell_type": "code",
   "execution_count": 463,
   "metadata": {},
   "outputs": [],
   "source": [
    "n1 = 100\n",
    "n2 = 100\n",
    "\n",
    "x1plot = np.linspace(0,6, n1)\n",
    "x2plot = np.linspace(0,6,n2)\n",
    "\n",
    "[X1,X2] = np.meshgrid(x1plot,x2plot)\n",
    "\n",
    "x1m = np.reshape(X1,n1*n2,1)\n",
    "x2m = np.reshape(X2,n1*n2,1)\n",
    "Xm = np.array([x1m, x2m]).T\n",
    "\n",
    "ym = np.zeros((n1*n2,1))\n",
    "\n",
    "for j in range(n1*n2):\n",
    "    x_p = Xm[j]\n",
    "    K_pred = metrics.pairwise.rbf_kernel([x_p], x, sigma)\n",
    "    ym[j] = np.sign(np.sum(np.multiply(np.multiply(alphas['alphas'],y), K_pred)) + alphas['b'])\n",
    "    \n",
    "yplot = np.reshape(ym, (n1, n2))"
   ]
  },
  {
   "cell_type": "code",
   "execution_count": 464,
   "metadata": {},
   "outputs": [
    {
     "data": {
      "image/png": "[encoded data removed]",
      "text/plain": [
       "<Figure size 432x288 with 1 Axes>"
      ]
     },
     "metadata": {
      "needs_background": "light"
     },
     "output_type": "display_data"
    }
   ],
   "source": [
    "def plot_data_with_contour(x, y, x1P, x2P, yP):\n",
    "    x1= np.arange(0,6);\n",
    "    unique = np.unique(y)\n",
    "    for li in range(len(unique)):\n",
    "        x_sub = x[y == unique[li]]\n",
    "        plt.scatter(x_sub[:, 0], x_sub[:, 1], c = COLORS[li])\n",
    "\n",
    "    plt.contour(x1P, x2P, yP)\n",
    "    plt.show()\n",
    "    \n",
    "plot_data_with_contour(x,y,x1plot, x2plot, yplot)"
   ]
  },
  {
   "cell_type": "code",
   "execution_count": null,
   "metadata": {},
   "outputs": [],
   "source": []
  }
 ],
 "metadata": {
  "kernelspec": {
   "display_name": "Python 3",
   "language": "python",
   "name": "python3"
  },
  "language_info": {
   "codemirror_mode": {
    "name": "ipython",
    "version": 3
   },
   "file_extension": ".py",
   "mimetype": "text/x-python",
   "name": "python",
   "nbconvert_exporter": "python",
   "pygments_lexer": "ipython3",
   "version": "3.7.3"
  }
 },
 "nbformat": 4,
 "nbformat_minor": 2
}
