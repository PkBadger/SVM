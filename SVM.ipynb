{
 "cells": [
  {
   "cell_type": "code",
   "execution_count": 465,
   "metadata": {},
   "outputs": [],
   "source": [
    "# Libraries and and global variables\n",
    "\n",
    "import numpy as np\n",
    "import matplotlib.pyplot as plt\n",
    "from cvxopt import matrix, solvers\n",
    "import sklearn.metrics as metrics\n",
    "\n",
    "K = None\n"
   ]
  },
  {
   "cell_type": "code",
   "execution_count": 466,
   "metadata": {},
   "outputs": [],
   "source": [
    "from sklearn import datasets\n",
    "from sklearn import preprocessing\n",
    "from sklearn.model_selection import train_test_split\n",
    "#Loading dataset for classification, scale and split test and train\n",
    "iris = datasets.load_iris()\n",
    "# Filter and conserve time 1 and 2 of iris\n",
    "cond = (iris.target != 1)\n",
    "y = iris.target[cond] - 1\n",
    "y = y.astype('float')\n",
    "x = iris.data[cond].astype('float')\n",
    "x = preprocessing.scale(x)\n",
    "X_train, X_test, y_train, y_test = train_test_split(x, y, test_size=0.25)\n"
   ]
  },
  {
   "cell_type": "code",
   "execution_count": 467,
   "metadata": {},
   "outputs": [],
   "source": [
    "sigma = .5\n",
    "\n",
    "# SVM with rbf kernel\n",
    "def fitNonLinear(x, y): \n",
    "    global K\n",
    "    NUM = x.shape[0]\n",
    "    DIM = x.shape[1]\n",
    "    \n",
    "    Y = np.reshape(y, (NUM, 1))\n",
    "    Ym = np.matmul(Y,Y.T)\n",
    "    # we'll solve the dual\n",
    "    # obtain the kernel\n",
    "    K = metrics.pairwise.rbf_kernel(x, x, sigma)\n",
    "    K = np.multiply(K, Ym)\n",
    "    P = matrix(K)\n",
    "    q = matrix(-np.ones((NUM, 1)))\n",
    "    G = matrix(-np.eye(NUM))\n",
    "    h = matrix(np.zeros(NUM))\n",
    "    A = matrix(y.reshape(1, -1))\n",
    "    b = matrix(np.zeros(1))\n",
    "    solvers.options['show_progress'] = False\n",
    "    sol = solvers.qp(P, q, G, h, A, b)\n",
    "    alphas = np.array(sol['x'])\n",
    "    return alphas"
   ]
  },
  {
   "cell_type": "code",
   "execution_count": 468,
   "metadata": {},
   "outputs": [],
   "source": [
    "#plot_data_with_labels(x, y)\n",
    "\n",
    "# fit svm classifier\n",
    "alphas = fitNonLinear(X_train, y_train)\n",
    "\n",
    "# Get support vectors and b\n",
    "cond = (alphas > 1e-4)\n",
    "alpha_sv = alphas[cond]\n",
    "n_sv = len(alpha_sv)\n",
    "xCond = cond.reshape(-1)\n",
    "x_sv = X_train[xCond, :]\n",
    "y_sv = y_train[xCond]\n",
    "K_sv = K[xCond,xCond]\n",
    "\n",
    "b = np.mean(y_sv - K_sv*(np.multiply(alpha_sv, y_sv)))\n"
   ]
  },
  {
   "cell_type": "code",
   "execution_count": 469,
   "metadata": {},
   "outputs": [],
   "source": [
    "ym = np.zeros(X_test.shape[0])\n",
    "# Predict the test data\n",
    "for j in range(X_test.shape[0]):\n",
    "    x_p = X_test[j]\n",
    "    K_pred = metrics.pairwise.rbf_kernel([x_p], x_sv, sigma)\n",
    "    ym[j] = np.sign(np.sum(np.multiply(np.multiply(alpha_sv,y_sv), K_pred)) + b)"
   ]
  },
  {
   "cell_type": "code",
   "execution_count": 470,
   "metadata": {},
   "outputs": [
    {
     "data": {
      "text/plain": [
       "array([[ 7,  0],\n",
       "       [ 0, 18]], dtype=int64)"
      ]
     },
     "execution_count": 470,
     "metadata": {},
     "output_type": "execute_result"
    }
   ],
   "source": [
    "from sklearn.metrics import confusion_matrix\n",
    "#Create a confusion matrix to check the accuracy of the algorithm\n",
    "confusion_matrix(y_test, ym)"
   ]
  },
  {
   "cell_type": "code",
   "execution_count": 471,
   "metadata": {},
   "outputs": [],
   "source": [
    "sigma = 3\n",
    "\n",
    "# least square SVM with rbf kernel\n",
    "def fitLS(x, y): \n",
    "    global K\n",
    "    NUM = x.shape[0]\n",
    "    DIM = x.shape[1]\n",
    "    \n",
    "    Y = np.reshape(y, (NUM, 1))\n",
    "    Ym = np.matmul(Y,Y.T)\n",
    "    # we'll solve the dual\n",
    "    # obtain the kernel\n",
    "    K = metrics.pairwise.rbf_kernel(x, x, sigma)\n",
    "\n",
    "    Omega = np.multiply(K, Ym)\n",
    "    onev = np.ones((NUM, 1))\n",
    "    gamma = 1\n",
    "    \n",
    "    yforA = np.reshape(y, (NUM, 1))\n",
    "    \n",
    "    A11 = np.zeros(1).reshape((1,1))\n",
    "    A12 = yforA.T\n",
    "    A21 = yforA\n",
    "    A22 = Omega + np.eye(NUM)/gamma\n",
    "    \n",
    "    A1 = np.hstack((A11, A12))\n",
    "    A2 = np.hstack((A21, A22))\n",
    "\n",
    "    A =  np.vstack((A1, A2))\n",
    "    \n",
    "    B = np.vstack((A11, onev))\n",
    "    \n",
    "    sol = np.linalg.solve(A, B)\n",
    "    b= sol[0]\n",
    "    alpha=sol[1:]\n",
    "    \n",
    "    return {\n",
    "        'b': b,\n",
    "        'alphas': alpha\n",
    "    }"
   ]
  },
  {
   "cell_type": "code",
   "execution_count": 472,
   "metadata": {},
   "outputs": [],
   "source": [
    "# fit svm classifier\n",
    "alphas = fitLS(X_train, y_train)\n",
    "b = alphas['b']\n",
    "alphas = alphas['alphas']"
   ]
  },
  {
   "cell_type": "code",
   "execution_count": 473,
   "metadata": {},
   "outputs": [
    {
     "data": {
      "text/plain": [
       "array([[ 7,  0],\n",
       "       [ 0, 18]], dtype=int64)"
      ]
     },
     "execution_count": 473,
     "metadata": {},
     "output_type": "execute_result"
    }
   ],
   "source": [
    "ym = np.zeros(X_test.shape[0])\n",
    "# Predict the test data\n",
    "for j in range(X_test.shape[0]):\n",
    "    x_p = X_test[j]\n",
    "    K_pred = metrics.pairwise.rbf_kernel([x_p], X_train, sigma)\n",
    "    ym[j] = np.sign(np.sum(np.multiply(np.multiply(alphas,y_train), K_pred)) + b)\n",
    "\n",
    "#Create a confusion matrix to check the accuracy of the algorithm\n",
    "confusion_matrix(y_test, ym)"
   ]
  },
  {
   "cell_type": "code",
   "execution_count": 464,
   "metadata": {},
   "outputs": [],
   "source": [
    "sigma = 1\n",
    "\n",
    "def fitLS_SVR(x, y): \n",
    "    global K\n",
    "    NUM = x.shape[0]\n",
    "    DIM = x.shape[1]\n",
    "    \n",
    "    Y = np.reshape(y, (NUM, 1))\n",
    "    Ym = np.matmul(Y,Y.T)\n",
    "\n",
    "    # we'll solve the dual\n",
    "    # obtain the kernel\n",
    "    K = metrics.pairwise.rbf_kernel(x, x, sigma)\n",
    "\n",
    "    Omega = np.multiply(K, Ym)\n",
    "    onev = np.ones((NUM, 1))\n",
    "    gamma = 1\n",
    "    \n",
    "    yforA = np.reshape(y, (NUM, 1))\n",
    "\n",
    "    A11 = np.zeros(1).reshape((1,1))\n",
    "    A12 = onev.T\n",
    "    A21 = onev\n",
    "    A22 = Omega + np.eye(NUM)/gamma\n",
    "    \n",
    "    A1 = np.hstack((A11, A12))\n",
    "    A2 = np.hstack((A21, A22))\n",
    "\n",
    "    A =  np.vstack((A1, A2))\n",
    "    \n",
    "    B = np.vstack((A11, yforA))\n",
    "    \n",
    "    sol = np.linalg.solve(A, B)\n",
    "    b= sol[0]\n",
    "    alpha=sol[1:]\n",
    "    \n",
    "    return {\n",
    "        'b': b,\n",
    "        'alphas': alpha\n",
    "    }"
   ]
  },
  {
   "cell_type": "code",
   "execution_count": 425,
   "metadata": {},
   "outputs": [
    {
     "name": "stdout",
     "output_type": "stream",
     "text": [
      "(379, 13)\n",
      "(127, 13)\n",
      "(379,)\n",
      "(127,)\n",
      "(379,)\n",
      "(127,)\n"
     ]
    }
   ],
   "source": [
    "X, y = datasets.load_boston(return_X_y=True)\n",
    "#x = preprocessing.scale(X)\n",
    "x = X\n",
    "X_train, X_test, y_train, y_test = train_test_split(x, y, test_size=0.25)\n",
    "print(X_train.shape)\n",
    "print(X_test.shape)\n",
    "print(y_train.shape)\n",
    "print(y_test.shape)\n",
    "x = np.sort(5 * np.random.rand(NUM, 1), axis=0)\n",
    "y = np.sin(x).ravel()\n",
    "\n",
    "#y_train = y_train.reshape((-1, 1))\n",
    "#y_test = y_test.reshape((-1, 1))\n",
    "print(y_train.shape)\n",
    "print(y_test.shape)\n",
    "\n",
    "# fit svm classifier\n",
    "alphas = fitLS_SVR(X_train, y_train)"
   ]
  },
  {
   "cell_type": "code",
   "execution_count": 426,
   "metadata": {},
   "outputs": [],
   "source": [
    "b = alphas['b']\n",
    "alphas = alphas['alphas']\n",
    "cond = (alphas > 1e-4)\n",
    "#alpha_sv = alphas[cond]\n",
    "#n_sv = len(alpha_sv)\n",
    "#xCond = cond.reshape(-1)\n",
    "#x_sv = X_train[xCond, :]\n",
    "#y_sv = y_train[xCond]\n",
    "#K_sv = K[xCond,xCond]\n",
    "\n",
    "alpha_sv = alphas\n",
    "n_sv = len(alpha_sv)\n",
    "xCond = cond.reshape(-1)\n",
    "x_sv = X_train\n",
    "y_sv = y_train\n",
    "K_sv = K[xCond,xCond]\n"
   ]
  },
  {
   "cell_type": "code",
   "execution_count": 427,
   "metadata": {},
   "outputs": [
    {
     "data": {
      "text/plain": [
       "379"
      ]
     },
     "execution_count": 427,
     "metadata": {},
     "output_type": "execute_result"
    }
   ],
   "source": [
    "len(alphas)\n",
    "len(alpha_sv)"
   ]
  },
  {
   "cell_type": "code",
   "execution_count": 430,
   "metadata": {},
   "outputs": [],
   "source": [
    "ym = np.zeros((y_test.shape[0]))\n",
    "\n",
    "for j in range(y_test.shape[0]):\n",
    "    x_p = X_test[j]\n",
    "    K_pred = metrics.pairwise.rbf_kernel([x_p], x_sv, sigma)\n",
    "    ym[j] = np.sum(np.multiply(alpha_sv, K_pred)) + b\n",
    "    \n",
    "#yplot = np.reshape(ym, (n1, n2))"
   ]
  },
  {
   "cell_type": "code",
   "execution_count": 432,
   "metadata": {},
   "outputs": [
    {
     "data": {
      "text/plain": [
       "-2.220446049250313e-16"
      ]
     },
     "execution_count": 432,
     "metadata": {},
     "output_type": "execute_result"
    }
   ],
   "source": [
    "from sklearn.metrics import explained_variance_score\n",
    "\n",
    "explained_variance_score(y_test, ym)\n",
    "#np.hstack((y_test, ym))"
   ]
  },
  {
   "cell_type": "code",
   "execution_count": 233,
   "metadata": {},
   "outputs": [
    {
     "name": "stderr",
     "output_type": "stream",
     "text": [
      "C:\\Users\\Tejon\\Anaconda3\\lib\\site-packages\\sklearn\\svm\\base.py:193: FutureWarning: The default value of gamma will change from 'auto' to 'scale' in version 0.22 to account better for unscaled features. Set gamma explicitly to 'auto' or 'scale' to avoid this warning.\n",
      "  \"avoid this warning.\", FutureWarning)\n"
     ]
    },
    {
     "data": {
      "image/png": "[encoded data removed]",
      "text/plain": [
       "<Figure size 432x288 with 1 Axes>"
      ]
     },
     "metadata": {
      "needs_background": "light"
     },
     "output_type": "display_data"
    }
   ],
   "source": [
    "#SVR from sklearn\n",
    "\n",
    "from sklearn.svm import SVR\n",
    "\n",
    "X = np.sort(5 * np.random.rand(40, 1), axis=0)\n",
    "y = np.sin(X).ravel()\n",
    "\n",
    "x = X\n",
    "\n",
    "\n",
    "svr_rbf = SVR(kernel='rbf', C=1e3, gamma=0.1)\n",
    "svr_lin = SVR(kernel='linear', C=1e3)\n",
    "svr_poly = SVR(kernel='poly', C=1e3, degree=2)\n",
    "y_rbf = svr_rbf.fit(x, y).predict(x)\n",
    "y_lin = svr_lin.fit(x, y).predict(x)\n",
    "y_poly = svr_poly.fit(x, y).predict(x)\n",
    "\n",
    "lw = 2\n",
    "plt.scatter(x, y, color='darkorange', label='data')\n",
    "plt.plot(x, y_rbf, color='navy', lw=lw, label='RBF model')\n",
    "#plt.plot(x, y_lin, color='c', lw=lw, label='Linear model')\n",
    "#plt.plot(x, y_poly, color='cornflowerblue', lw=lw, label='Polynomial model')\n",
    "plt.xlabel('data')\n",
    "plt.ylabel('target')\n",
    "plt.title('Support Vector Regression')\n",
    "plt.legend()\n",
    "plt.show()"
   ]
  },
  {
   "cell_type": "code",
   "execution_count": null,
   "metadata": {},
   "outputs": [],
   "source": []
  }
 ],
 "metadata": {
  "kernelspec": {
   "display_name": "Python 3",
   "language": "python",
   "name": "python3"
  },
  "language_info": {
   "codemirror_mode": {
    "name": "ipython",
    "version": 3
   },
   "file_extension": ".py",
   "mimetype": "text/x-python",
   "name": "python",
   "nbconvert_exporter": "python",
   "pygments_lexer": "ipython3",
   "version": "3.7.3"
  }
 },
 "nbformat": 4,
 "nbformat_minor": 2
}
