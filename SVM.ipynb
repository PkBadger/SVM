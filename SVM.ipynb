{
 "cells": [
  {
   "cell_type": "code",
   "execution_count": 976,
   "metadata": {},
   "outputs": [],
   "source": [
    "# Libraries and testing data\n",
    "\n",
    "import numpy as np\n",
    "import matplotlib.pyplot as plt\n",
    "from cvxopt import matrix, solvers\n",
    "import sklearn.metrics as metrics\n",
    "\n",
    "DIM = 2\n",
    "COLORS = ['red', 'blue']\n",
    "K = None\n",
    "KC = None\n",
    "\n",
    "# 2-D mean of ones\n",
    "M1 = np.ones((DIM,))\n",
    "# 2-D mean of threes\n",
    "M2 = 3 * np.ones((DIM,))\n",
    "# 2-D covariance of 0.3\n",
    "C1 = np.diag(0.3 * np.ones((DIM,)))\n",
    "# 2-D covariance of 0.2\n",
    "C2 = np.diag(0.2 * np.ones((DIM,)))\n",
    "\n",
    "def generate_gaussian(m, c, num):\n",
    "    return np.random.multivariate_normal(m, c, num)\n",
    "\n",
    "def plot_data_with_labels(x, y):\n",
    "    unique = np.unique(y)\n",
    "    for li in range(len(unique)):\n",
    "        x_sub = x[y == unique[li]]\n",
    "        plt.scatter(x_sub[:, 0], x_sub[:, 1], c = COLORS[li])\n",
    "    plt.show()\n",
    "    \n",
    "def plot_data_with_line(x, y, w, b):\n",
    "    x1= np.arange(0,6);\n",
    "    unique = np.unique(y)\n",
    "    for li in range(len(unique)):\n",
    "        x_sub = x[y == unique[li]]\n",
    "        plt.scatter(x_sub[:, 0], x_sub[:, 1], c = COLORS[li])\n",
    "    slope = -w[0] / w[1]\n",
    "    intercept = -b / w[1]\n",
    "    print(slope)\n",
    "    print(intercept)\n",
    "    print(x1 * slope + intercept)\n",
    "    plt.plot(x1, x1 * slope + intercept, 'k-')\n",
    "    plt.show()\n",
    "\n",
    "\n",
    "\n",
    "NUM = 50"
   ]
  },
  {
   "cell_type": "code",
   "execution_count": 977,
   "metadata": {},
   "outputs": [],
   "source": [
    "def fitSVM(x, y): \n",
    "    global K\n",
    "    global KC\n",
    "    NUM = x.shape[0]\n",
    "    \n",
    "    Y = np.reshape(y, (NUM, 1))\n",
    "    Ym = np.matmul(Y,Y.T)\n",
    "    # we'll solve the dual\n",
    "    # obtain the kernel\n",
    "    K = np.zeros((NUM,NUM))\n",
    "    for i in range(NUM):\n",
    "        counter = 0\n",
    "        for j in range(NUM):\n",
    "            Xi = np.array(x[i])\n",
    "            Xj = np.array(x[j])\n",
    "            K[i][j] = np.matmul(Xi, Xj.T)\n",
    "            counter = counter+ 1\n",
    "\n",
    "    K = np.multiply(K, Ym)\n",
    "    P = matrix(K)\n",
    "    q = matrix(-np.ones((NUM, 1)))\n",
    "    G = matrix(-np.eye(NUM))\n",
    "    h = matrix(np.zeros(NUM))\n",
    "    A = matrix(y.reshape(1, -1))\n",
    "    b = matrix(np.zeros(1))\n",
    "    \n",
    "    solvers.options['show_progress'] = False\n",
    "    sol = solvers.qp(P, q, G, h, A, b)\n",
    "    alphas = np.array(sol['x'])\n",
    "    return alphas"
   ]
  },
  {
   "cell_type": "code",
   "execution_count": 978,
   "metadata": {},
   "outputs": [
    {
     "data": {
      "image/png": "[encoded data removed]",
      "text/plain": [
       "<Figure size 432x288 with 1 Axes>"
      ]
     },
     "metadata": {
      "needs_background": "light"
     },
     "output_type": "display_data"
    }
   ],
   "source": [
    "\n",
    "# generate 50 points from gaussian 1\n",
    "x1 = generate_gaussian(M1, C1, NUM)\n",
    "# labels\n",
    "y1 = np.ones((x1.shape[0],))\n",
    "# generate 50 points from gaussian 2\n",
    "x2 = generate_gaussian(M2, C2, NUM)\n",
    "y2 = -np.ones((x2.shape[0],))\n",
    "# join\n",
    "x = np.concatenate((x1, x2), axis = 0)\n",
    "y = np.concatenate((y1, y2), axis = 0)\n",
    "plot_data_with_labels(x, y)\n",
    "\n",
    "# fit svm classifier\n",
    "alphas = fitSVM(x, y)\n",
    "\n",
    "# get weights\n",
    "w = np.sum(alphas * y[:, None] * x, axis = 0)\n",
    "# get bias\n",
    "cond = (alphas > 1e-4).reshape(-1)\n",
    "b = y[cond] - np.dot(x[cond], w)\n",
    "b = np.mean(b)"
   ]
  },
  {
   "cell_type": "code",
   "execution_count": 979,
   "metadata": {},
   "outputs": [
    {
     "name": "stdout",
     "output_type": "stream",
     "text": [
      "-1.054967012175157\n",
      "4.394184880223317\n",
      "[ 4.39418488  3.33921787  2.28425086  1.22928384  0.17431683 -0.88065018]\n"
     ]
    },
    {
     "data": {
      "image/png": "[encoded data removed]",
      "text/plain": [
       "<Figure size 432x288 with 1 Axes>"
      ]
     },
     "metadata": {
      "needs_background": "light"
     },
     "output_type": "display_data"
    }
   ],
   "source": [
    "plot_data_with_line(x,y,w,b)"
   ]
  },
  {
   "cell_type": "code",
   "execution_count": 980,
   "metadata": {},
   "outputs": [],
   "source": [
    "sigma = .5\n",
    "\n",
    "def fitNonLinear(x, y): \n",
    "    global K\n",
    "    global KC\n",
    "    NUM = x.shape[0]\n",
    "    DIM = x.shape[1]\n",
    "    \n",
    "    Y = np.reshape(y, (NUM, 1))\n",
    "    Ym = np.matmul(Y,Y.T)\n",
    "    # we'll solve the dual\n",
    "    # obtain the kernel\n",
    "    K = metrics.pairwise.rbf_kernel(x, x, sigma)\n",
    "    K = np.multiply(K, Ym)\n",
    "    P = matrix(K)\n",
    "    q = matrix(-np.ones((NUM, 1)))\n",
    "    G = matrix(-np.eye(NUM))\n",
    "    h = matrix(np.zeros(NUM))\n",
    "    A = matrix(y.reshape(1, -1))\n",
    "    b = matrix(np.zeros(1))\n",
    "    solvers.options['show_progress'] = False\n",
    "    sol = solvers.qp(P, q, G, h, A, b)\n",
    "    alphas = np.array(sol['x'])\n",
    "    return alphas"
   ]
  },
  {
   "cell_type": "code",
   "execution_count": 981,
   "metadata": {},
   "outputs": [
    {
     "data": {
      "image/png": "[encoded data removed]",
      "text/plain": [
       "<Figure size 432x288 with 1 Axes>"
      ]
     },
     "metadata": {
      "needs_background": "light"
     },
     "output_type": "display_data"
    }
   ],
   "source": [
    "plot_data_with_labels(x, y)\n",
    "\n",
    "# fit svm classifier\n",
    "alphas = fitNonLinear(x, y)\n",
    "\n",
    "cond = (alphas > 1e-4)\n",
    "alpha_sv = alphas[cond]\n",
    "n_sv = len(alpha_sv)\n",
    "xCond = cond.reshape(-1)\n",
    "x_sv = x[xCond, :]\n",
    "y_sv = y[xCond]\n",
    "K_sv = K[xCond,xCond]\n",
    "\n",
    "b = np.mean(y_sv - K_sv*(np.multiply(alpha_sv, y_sv)))\n"
   ]
  },
  {
   "cell_type": "code",
   "execution_count": 982,
   "metadata": {},
   "outputs": [],
   "source": [
    "n1 = 100\n",
    "n2 = 100\n",
    "\n",
    "x1plot = np.linspace(0,6, n1)\n",
    "x2plot = np.linspace(0,6,n2)\n",
    "\n",
    "[X1,X2] = np.meshgrid(x1plot,x2plot)\n",
    "\n",
    "x1m = np.reshape(X1,n1*n2,1)\n",
    "x2m = np.reshape(X2,n1*n2,1)\n",
    "Xm = np.array([x1m, x2m]).T\n",
    "\n",
    "ym = np.zeros((n1*n2,1))\n",
    "\n",
    "for j in range(n1*n2):\n",
    "    x_p = Xm[j]\n",
    "    K_pred = metrics.pairwise.rbf_kernel([x_p], x_sv, sigma)\n",
    "    ym[j] = np.sign(np.sum(np.multiply(np.multiply(alpha_sv,y_sv), K_pred)) + b)\n",
    "    \n",
    "yplot = np.reshape(ym, (n1, n2))"
   ]
  },
  {
   "cell_type": "code",
   "execution_count": 983,
   "metadata": {},
   "outputs": [
    {
     "data": {
      "image/png": "[encoded data removed]",
      "text/plain": [
       "<Figure size 432x288 with 1 Axes>"
      ]
     },
     "metadata": {
      "needs_background": "light"
     },
     "output_type": "display_data"
    }
   ],
   "source": [
    "def plot_data_with_contour(x, y, x1P, x2P, yP):\n",
    "    x1= np.arange(0,6);\n",
    "    unique = np.unique(y)\n",
    "    for li in range(len(unique)):\n",
    "        x_sub = x[y == unique[li]]\n",
    "        plt.scatter(x_sub[:, 0], x_sub[:, 1], c = COLORS[li])\n",
    "\n",
    "    plt.contour(x1P, x2P, yP)\n",
    "    plt.show()\n",
    "    \n",
    "plot_data_with_contour(x,y,x1plot, x2plot, yplot)"
   ]
  },
  {
   "cell_type": "code",
   "execution_count": 984,
   "metadata": {},
   "outputs": [],
   "source": [
    "sigma = 3\n",
    "\n",
    "def fitLS(x, y): \n",
    "    global K\n",
    "    global KC\n",
    "    NUM = x.shape[0]\n",
    "    DIM = x.shape[1]\n",
    "    \n",
    "    Y = np.reshape(y, (NUM, 1))\n",
    "    Ym = np.matmul(Y,Y.T)\n",
    "    # we'll solve the dual\n",
    "    # obtain the kernel\n",
    "    K = metrics.pairwise.rbf_kernel(x, x, sigma)\n",
    "\n",
    "    Omega = np.multiply(K, Ym)\n",
    "    onev = np.ones((NUM, 1))\n",
    "    gamma = 1\n",
    "    \n",
    "    yforA = np.reshape(y, (NUM, 1))\n",
    "    \n",
    "    A11 = np.zeros(1).reshape((1,1))\n",
    "    A12 = yforA.T\n",
    "    A21 = yforA\n",
    "    A22 = Omega + np.eye(NUM)/gamma\n",
    "    \n",
    "    A1 = np.hstack((A11, A12))\n",
    "    A2 = np.hstack((A21, A22))\n",
    "\n",
    "    A =  np.vstack((A1, A2))\n",
    "    \n",
    "    B = np.vstack((A11, onev))\n",
    "    \n",
    "    sol = np.linalg.solve(A, B)\n",
    "    b= sol[0]\n",
    "    alpha=sol[1:]\n",
    "    \n",
    "    return {\n",
    "        'b': b,\n",
    "        'alphas': alpha\n",
    "    }"
   ]
  },
  {
   "cell_type": "code",
   "execution_count": 985,
   "metadata": {},
   "outputs": [
    {
     "data": {
      "image/png": "[encoded data removed]",
      "text/plain": [
       "<Figure size 432x288 with 1 Axes>"
      ]
     },
     "metadata": {
      "needs_background": "light"
     },
     "output_type": "display_data"
    }
   ],
   "source": [
    "plot_data_with_labels(x, y)\n",
    "\n",
    "# fit svm classifier\n",
    "alphas = fitLS(x, y)"
   ]
  },
  {
   "cell_type": "code",
   "execution_count": 986,
   "metadata": {},
   "outputs": [],
   "source": [
    "n1 = 100\n",
    "n2 = 100\n",
    "\n",
    "x1plot = np.linspace(0,6, n1)\n",
    "x2plot = np.linspace(0,6,n2)\n",
    "\n",
    "[X1,X2] = np.meshgrid(x1plot,x2plot)\n",
    "\n",
    "x1m = np.reshape(X1,n1*n2,1)\n",
    "x2m = np.reshape(X2,n1*n2,1)\n",
    "Xm = np.array([x1m, x2m]).T\n",
    "\n",
    "ym = np.zeros((n1*n2,1))\n",
    "\n",
    "for j in range(n1*n2):\n",
    "    x_p = Xm[j]\n",
    "    K_pred = metrics.pairwise.rbf_kernel([x_p], x, sigma)\n",
    "    ym[j] = np.sign(np.sum(np.multiply(np.multiply(alphas['alphas'],y), K_pred)) + alphas['b'])\n",
    "    \n",
    "yplot = np.reshape(ym, (n1, n2))"
   ]
  },
  {
   "cell_type": "code",
   "execution_count": 987,
   "metadata": {},
   "outputs": [
    {
     "data": {
      "image/png": "[encoded data removed]",
      "text/plain": [
       "<Figure size 432x288 with 1 Axes>"
      ]
     },
     "metadata": {
      "needs_background": "light"
     },
     "output_type": "display_data"
    }
   ],
   "source": [
    "def plot_data_with_contour(x, y, x1P, x2P, yP):\n",
    "    x1= np.arange(0,6);\n",
    "    unique = np.unique(y)\n",
    "    for li in range(len(unique)):\n",
    "        x_sub = x[y == unique[li]]\n",
    "        plt.scatter(x_sub[:, 0], x_sub[:, 1], c = COLORS[li])\n",
    "\n",
    "    plt.contour(x1P, x2P, yP)\n",
    "    plt.show()\n",
    "    \n",
    "plot_data_with_contour(x,y,x1plot, x2plot, yplot)"
   ]
  },
  {
   "cell_type": "code",
   "execution_count": 988,
   "metadata": {},
   "outputs": [],
   "source": [
    "sigma = 3\n",
    "\n",
    "def krbf(x,y,sigma):\n",
    "    return np.exp(-np.linalg.norm(x - y)**2/(2*sigma**2))\n",
    "\n",
    "def fitLS_SVR(x, y): \n",
    "    global K\n",
    "    global KC\n",
    "    NUM = x.shape[0]\n",
    "    DIM = x.shape[1]\n",
    "    \n",
    "    Y = np.reshape(y, (NUM, 1))\n",
    "    #Ym = np.matmul(Y,Y.T)\n",
    "\n",
    "    # we'll solve the dual\n",
    "    # obtain the kernel\n",
    "    #K = metrics.pairwise.rbf_kernel(x, x, sigma)\n",
    "    K = np.zeros((NUM,NUM))\n",
    "    print(NUM)\n",
    "    for i in range(NUM):\n",
    "        for j in range(NUM):\n",
    "            K[i,j] = krbf(x[i], x[j], sigma)\n",
    "    \n",
    "    Omega = K #np.multiply(K, Ym)\n",
    "    onev = np.ones((NUM, 1))\n",
    "    gamma = 3\n",
    "    \n",
    "    yforA = np.reshape(y, (NUM, 1))\n",
    "\n",
    "    A11 = np.zeros(1).reshape((1,1))\n",
    "    A12 = onev.T\n",
    "    A21 = onev\n",
    "    A22 = Omega + np.eye(NUM)/gamma\n",
    "    \n",
    "    A1 = np.hstack((A11, A12))\n",
    "    A2 = np.hstack((A21, A22))\n",
    "\n",
    "    A =  np.vstack((A1, A2))\n",
    "    \n",
    "    B = np.vstack((A11, yforA))\n",
    "    \n",
    "    sol = np.linalg.solve(A, B)\n",
    "    b= sol[0]\n",
    "    alpha=sol[1:]\n",
    "    \n",
    "    return {\n",
    "        'b': b,\n",
    "        'alphas': alpha\n",
    "    }"
   ]
  },
  {
   "cell_type": "code",
   "execution_count": 989,
   "metadata": {},
   "outputs": [
    {
     "data": {
      "image/png": "[encoded data removed]",
      "text/plain": [
       "<Figure size 432x288 with 1 Axes>"
      ]
     },
     "metadata": {
      "needs_background": "light"
     },
     "output_type": "display_data"
    },
    {
     "name": "stdout",
     "output_type": "stream",
     "text": [
      "50\n"
     ]
    }
   ],
   "source": [
    "x = np.sort(5 * np.random.rand(NUM, 1), axis=0)\n",
    "y = np.sin(x).ravel()\n",
    "\n",
    "y = y.reshape((NUM, 1))\n",
    "\n",
    "def plot_data(x, y):\n",
    "    plt.scatter(x, y)\n",
    "    plt.show()\n",
    "plot_data(x,y)\n",
    "\n",
    "# fit svm classifier\n",
    "alphas = fitLS_SVR(x, y)"
   ]
  },
  {
   "cell_type": "code",
   "execution_count": 990,
   "metadata": {},
   "outputs": [],
   "source": [
    "b = alphas['b']\n",
    "alphas = alphas['alphas']\n",
    "cond = (alphas > 1e-4)\n",
    "alpha_sv = alphas\n",
    "n_sv = len(alpha_sv)\n",
    "xCond = cond.reshape(-1)\n",
    "x_sv = x\n",
    "y_sv = y\n",
    "K_sv = K"
   ]
  },
  {
   "cell_type": "code",
   "execution_count": 991,
   "metadata": {},
   "outputs": [
    {
     "data": {
      "text/plain": [
       "array([[-1.1094989 ],\n",
       "       [-1.07023439],\n",
       "       [-0.69690651],\n",
       "       [-0.55446267],\n",
       "       [-0.46556092],\n",
       "       [-0.38504478],\n",
       "       [-0.12325928],\n",
       "       [-0.06599975],\n",
       "       [-0.06253505],\n",
       "       [ 0.08591625],\n",
       "       [ 0.14529131],\n",
       "       [ 0.20654871],\n",
       "       [ 0.44873576],\n",
       "       [ 0.49152765],\n",
       "       [ 0.63854836],\n",
       "       [ 0.77811341],\n",
       "       [ 0.81513467],\n",
       "       [ 0.83071387],\n",
       "       [ 0.83192286],\n",
       "       [ 0.8126501 ],\n",
       "       [ 0.76828337],\n",
       "       [ 0.7297514 ],\n",
       "       [ 0.67256999],\n",
       "       [ 0.64721912],\n",
       "       [ 0.63015371],\n",
       "       [ 0.54931125],\n",
       "       [ 0.15075784],\n",
       "       [ 0.13353734],\n",
       "       [-0.00173532],\n",
       "       [-0.05966656],\n",
       "       [-0.11704191],\n",
       "       [-0.2282124 ],\n",
       "       [-0.26981395],\n",
       "       [-0.28005588],\n",
       "       [-0.32718421],\n",
       "       [-0.34497101],\n",
       "       [-0.41668056],\n",
       "       [-0.48944825],\n",
       "       [-0.52074961],\n",
       "       [-0.52655098],\n",
       "       [-0.55418326],\n",
       "       [-0.57399348],\n",
       "       [-0.54894551],\n",
       "       [-0.5450053 ],\n",
       "       [-0.47298832],\n",
       "       [-0.36657753],\n",
       "       [-0.07811776],\n",
       "       [ 0.15016113],\n",
       "       [ 0.33216001],\n",
       "       [ 0.40641594]])"
      ]
     },
     "execution_count": 991,
     "metadata": {},
     "output_type": "execute_result"
    }
   ],
   "source": [
    "alphas"
   ]
  },
  {
   "cell_type": "code",
   "execution_count": 992,
   "metadata": {},
   "outputs": [],
   "source": [
    "n1 = 100\n",
    "\n",
    "\n",
    "x1plot = np.linspace(0,5, n1)\n",
    "x1plot = x1plot.reshape((n1, 1))\n",
    "ym = np.zeros((n1,1))\n",
    "\n",
    "for j in range(n1):\n",
    "    x_p = x1plot[j]\n",
    "    K_pred=np.zeros((x_sv.shape[0],1));\n",
    "    for i in range(x_sv.shape[0]):\n",
    "        K_pred[i] = krbf(x_p, x_sv[i], sigma)\n",
    "    ym[j] = np.sum(np.multiply(alpha_sv, K_pred)) + b\n",
    "    \n",
    "#yplot = np.reshape(ym, (n1, n2))"
   ]
  },
  {
   "cell_type": "code",
   "execution_count": 993,
   "metadata": {},
   "outputs": [
    {
     "data": {
      "image/png": "[encoded data removed]",
      "text/plain": [
       "<Figure size 432x288 with 1 Axes>"
      ]
     },
     "metadata": {
      "needs_background": "light"
     },
     "output_type": "display_data"
    }
   ],
   "source": [
    "def plot_data_with_predict(x, y, x1P, ym):\n",
    "    plt.scatter(x, y)\n",
    "    plt.plot(x1plot, ym)\n",
    "    #plt.contour(x1P, x2P, yP)\n",
    "    plt.show()\n",
    "    \n",
    "plot_data_with_predict(x,y,x1plot, ym)"
   ]
  },
  {
   "cell_type": "code",
   "execution_count": 233,
   "metadata": {},
   "outputs": [
    {
     "name": "stderr",
     "output_type": "stream",
     "text": [
      "C:\\Users\\Tejon\\Anaconda3\\lib\\site-packages\\sklearn\\svm\\base.py:193: FutureWarning: The default value of gamma will change from 'auto' to 'scale' in version 0.22 to account better for unscaled features. Set gamma explicitly to 'auto' or 'scale' to avoid this warning.\n",
      "  \"avoid this warning.\", FutureWarning)\n"
     ]
    },
    {
     "data": {
      "image/png": "[encoded data removed]",
      "text/plain": [
       "<Figure size 432x288 with 1 Axes>"
      ]
     },
     "metadata": {
      "needs_background": "light"
     },
     "output_type": "display_data"
    }
   ],
   "source": [
    "#SVR from sklearn\n",
    "\n",
    "from sklearn.svm import SVR\n",
    "\n",
    "X = np.sort(5 * np.random.rand(40, 1), axis=0)\n",
    "y = np.sin(X).ravel()\n",
    "\n",
    "x = X\n",
    "\n",
    "\n",
    "svr_rbf = SVR(kernel='rbf', C=1e3, gamma=0.1)\n",
    "svr_lin = SVR(kernel='linear', C=1e3)\n",
    "svr_poly = SVR(kernel='poly', C=1e3, degree=2)\n",
    "y_rbf = svr_rbf.fit(x, y).predict(x)\n",
    "y_lin = svr_lin.fit(x, y).predict(x)\n",
    "y_poly = svr_poly.fit(x, y).predict(x)\n",
    "\n",
    "lw = 2\n",
    "plt.scatter(x, y, color='darkorange', label='data')\n",
    "plt.plot(x, y_rbf, color='navy', lw=lw, label='RBF model')\n",
    "#plt.plot(x, y_lin, color='c', lw=lw, label='Linear model')\n",
    "#plt.plot(x, y_poly, color='cornflowerblue', lw=lw, label='Polynomial model')\n",
    "plt.xlabel('data')\n",
    "plt.ylabel('target')\n",
    "plt.title('Support Vector Regression')\n",
    "plt.legend()\n",
    "plt.show()"
   ]
  },
  {
   "cell_type": "code",
   "execution_count": null,
   "metadata": {},
   "outputs": [],
   "source": []
  }
 ],
 "metadata": {
  "kernelspec": {
   "display_name": "Python 3",
   "language": "python",
   "name": "python3"
  },
  "language_info": {
   "codemirror_mode": {
    "name": "ipython",
    "version": 3
   },
   "file_extension": ".py",
   "mimetype": "text/x-python",
   "name": "python",
   "nbconvert_exporter": "python",
   "pygments_lexer": "ipython3",
   "version": "3.7.3"
  }
 },
 "nbformat": 4,
 "nbformat_minor": 2
}
